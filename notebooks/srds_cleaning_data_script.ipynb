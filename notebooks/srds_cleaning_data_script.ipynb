{
 "cells": [
  {
   "cell_type": "code",
   "execution_count": null,
   "id": "0a83bbff",
   "metadata": {},
   "outputs": [],
   "source": [
    "import pandas as pd\n",
    "import numpy as np\n",
    "\n",
    "from datetime import datetime"
   ]
  },
  {
   "cell_type": "code",
   "execution_count": null,
   "id": "84502275",
   "metadata": {},
   "outputs": [],
   "source": []
  },
  {
   "cell_type": "markdown",
   "id": "e666be78",
   "metadata": {},
   "source": [
    "### 1. Read in datasets"
   ]
  },
  {
   "cell_type": "code",
   "execution_count": null,
   "id": "f8b5c6b7",
   "metadata": {},
   "outputs": [],
   "source": [
    "codes_mapping = pd.read_excel('srds_customer_identity_adjustment_20220509.xlsx', sheet_name = 'created_proxy_customer_id')\n",
    "\n",
    "df_0 = pd.read_excel('SRDS SALES BY CUSTOMER AND BY DAY Jan 2020 - Jan 2022.xlsx', skiprows = 4, skipfooter = 5, header = 0)\n",
    "\n",
    "df_1 = pd.read_excel('SALES BY CUSTOMER AND BY DAY Feb 2022 - July 2022.xlsx', skiprows = 4, skipfooter = 5, header = 0)\n",
    "\n",
    "df_2 = pd.read_excel('Customers Data by31 Jul 2022.xlsx')\n",
    "\n",
    "df_3 = pd.read_excel('SRDS Partnership AUGUST TO SEPTEMBER 2022.xlsx', sheet_name = 'SALES DATA AUGUST TO SEPTEMBER', skipfooter = 7)\n",
    "\n",
    "df_4 = pd.read_excel('S.R.D.S+Ltd_Sales+by+Customer+Summary (6).xlsx', skiprows = 4, skipfooter = 5)\n",
    "\n",
    "df_5 = pd.read_excel('S.R.D.S+Ltd_Sales+by+Customer+Summary (7).xlsx', skiprows = 4, skipfooter = 5)\n",
    "\n",
    "df_6 = pd.read_excel('S.R.D.S+Ltd_Sales+by+Customer+Summary (10).xlsx', skiprows = 4, skipfooter = 5)\n",
    "\n",
    "df_7 = pd.read_excel('S.R.D.S+Ltd_Sales+by+Customer+Summary NOVEMBER 2022.xlsx', skiprows = 4, skipfooter = 5)\n",
    "\n",
    "df_8 = pd.read_excel('S.R.D.S+Ltd_Sales+by+Customer+Summary December 2022.xlsx', skiprows = 4, skipfooter = 5)\n",
    "\n",
    "df_9 = pd.read_excel('S.R.D.S Sales by Customer Siummary - January 2023.xlsx', skiprows = 4, skipfooter = 5)"
   ]
  },
  {
   "cell_type": "code",
   "execution_count": null,
   "id": "40c73fd0",
   "metadata": {},
   "outputs": [],
   "source": []
  },
  {
   "cell_type": "code",
   "execution_count": null,
   "id": "1d5e6096",
   "metadata": {},
   "outputs": [],
   "source": []
  },
  {
   "cell_type": "markdown",
   "id": "34ca3029",
   "metadata": {},
   "source": [
    "### 2. Cleaning datasets."
   ]
  },
  {
   "cell_type": "code",
   "execution_count": null,
   "id": "d89b586b",
   "metadata": {},
   "outputs": [],
   "source": [
    "cols_to_str = [\"original_customer_id\",\"proxy_customer_id\"]\n",
    "codes_mapping[cols_to_str] = codes_mapping[cols_to_str].astype(\"str\")"
   ]
  },
  {
   "cell_type": "code",
   "execution_count": null,
   "id": "3cee4b00",
   "metadata": {},
   "outputs": [],
   "source": [
    "def clean_first_dataset(df):\n",
    "    \n",
    "    df.drop(columns = [\"Total\",\"SUCCESS\"], inplace = True)\n",
    "    \n",
    "    #rename Unnamed: O column\n",
    "    df.rename(columns = {\"Unnamed: 0\":\"vendors\"}, inplace = True)\n",
    "    \n",
    "    return df"
   ]
  },
  {
   "cell_type": "code",
   "execution_count": null,
   "id": "f5a40a92",
   "metadata": {},
   "outputs": [],
   "source": []
  },
  {
   "cell_type": "code",
   "execution_count": null,
   "id": "8ab543bc",
   "metadata": {},
   "outputs": [],
   "source": [
    "def clean_second_dataset(df):\n",
    "    df.drop(columns = [\"Total\", \"Unnamed: 1\", \"Unnamed: 2\"], inplace = True)\n",
    "    \n",
    "    df.rename(columns = {\"Unnamed: 0\":\"vendors\"}, inplace = True)\n",
    "    \n",
    "    return df"
   ]
  },
  {
   "cell_type": "code",
   "execution_count": null,
   "id": "398cf85f",
   "metadata": {},
   "outputs": [],
   "source": []
  },
  {
   "cell_type": "code",
   "execution_count": null,
   "id": "e33bd1c2",
   "metadata": {},
   "outputs": [],
   "source": [
    "def clean_fourth_dataset(df):\n",
    "    df.drop(['Total','Unnamed: 2','Unnamed: 3'], axis = 'columns', inplace = True)\n",
    "    \n",
    "    return df"
   ]
  },
  {
   "cell_type": "code",
   "execution_count": null,
   "id": "515118bc",
   "metadata": {},
   "outputs": [],
   "source": []
  },
  {
   "cell_type": "code",
   "execution_count": null,
   "id": "03e7cc2b",
   "metadata": {},
   "outputs": [],
   "source": [
    "def clean_standard_dataset(df):\n",
    "    df.drop('Total', axis = 'columns', inplace = True)\n",
    "    \n",
    "    return df"
   ]
  },
  {
   "cell_type": "code",
   "execution_count": null,
   "id": "4f3cd654",
   "metadata": {},
   "outputs": [],
   "source": []
  },
  {
   "cell_type": "code",
   "execution_count": null,
   "id": "a4513216",
   "metadata": {},
   "outputs": [],
   "source": [
    "## Applying cleaning functions\n",
    "\n",
    "df_0_cleaned = clean_first_dataset(df_0)\n",
    "\n",
    "df_1_cleaned = clean_second_dataset(df_1)\n",
    "\n",
    "df_2_cleaned = clean_standard_dataset(df_2)\n",
    "\n",
    "df_3_cleaned = clean_standard_dataset(df_3)\n",
    "\n",
    "df_4_cleaned = clean_fourth_dataset(df_4)\n",
    "\n",
    "df_5_cleaned = clean_standard_dataset(df_5)\n",
    "\n",
    "df_6_cleaned = clean_standard_dataset(df_6)\n",
    "\n",
    "df_7_cleaned = clean_standard_dataset(df_7)\n",
    "\n",
    "df_8_cleaned = clean_standard_dataset(df_8)\n",
    "\n",
    "df_9_cleaned = clean_standard_dataset(df_9)"
   ]
  },
  {
   "cell_type": "code",
   "execution_count": null,
   "id": "96c254e4",
   "metadata": {},
   "outputs": [],
   "source": []
  },
  {
   "cell_type": "markdown",
   "id": "9b5c908c",
   "metadata": {},
   "source": [
    "### 3. Melting dataframes"
   ]
  },
  {
   "cell_type": "code",
   "execution_count": null,
   "id": "d661626d",
   "metadata": {},
   "outputs": [],
   "source": [
    "def melt_first_two_dfs(df, codes):\n",
    "    \n",
    "    \"\"\"Melt dataframe.\"\"\"\n",
    "    \n",
    "    df_melted = pd.melt(df, id_vars = 'vendors', var_name  = 'date_time', value_name = 'invoice_value')\n",
    "    \n",
    "    df_melted['vendors'] = df_melted['vendors'].str.strip()\n",
    "\n",
    "    df_melted['vendors'] = [x.replace('/ ', '') for x in df_melted['vendors']]\n",
    "    \n",
    "    \n",
    "    df_melted_final = pd.merge(codes_mapping, df_melted, on = 'vendors')\n",
    "    \n",
    "    ids = df_melted_final['proxy_customer_id']\n",
    "\n",
    "    df_melted_final.drop(['original_customer_id','proxy_customer_id'], axis = 'columns', inplace = True)\n",
    "\n",
    "    df_melted_final.insert(0, 'customer_id', ids)\n",
    "\n",
    "    df_melted_final['customer_id'] = df_melted_final['customer_id'].astype('int64')\n",
    "    \n",
    "    return df_melted_final"
   ]
  },
  {
   "cell_type": "code",
   "execution_count": null,
   "id": "b9d64dbe",
   "metadata": {},
   "outputs": [],
   "source": []
  },
  {
   "cell_type": "code",
   "execution_count": null,
   "id": "8c09c43c",
   "metadata": {},
   "outputs": [],
   "source": [
    "def melt_standard_dfs(df, codes):\n",
    "    \n",
    "    \"\"\"Melt dataframe.\"\"\"\n",
    "    \n",
    "    df_melted = pd.melt(df, id_vars = ['customer_id','vendors'], var_name  = 'date_time', value_name = 'invoice_value')\n",
    "    \n",
    "    df_melted['vendors'] = df_melted['vendors'].str.strip()\n",
    "\n",
    "    df_melted['vendors'] = [x.replace('/ ', '') for x in df_melted['vendors']]\n",
    "    \n",
    "    df_melted['customer_id'] = df_melted['customer_id'].astype('int64')\n",
    "    \n",
    "    return df_melted"
   ]
  },
  {
   "cell_type": "code",
   "execution_count": null,
   "id": "7362c937",
   "metadata": {},
   "outputs": [],
   "source": [
    "## Applying melting functions\n",
    "\n",
    "df_0_melted = melt_first_two_dfs(df_0_cleaned, codes_mapping)\n",
    "\n",
    "df_1_melted = melt_first_two_dfs(df_1_cleaned, codes_mapping)\n",
    "\n",
    "df_2_melted = melt_standard_dfs(df_2_cleaned, codes_mapping)\n",
    "\n",
    "df_3_melted = melt_standard_dfs(df_3_cleaned, codes_mapping)\n",
    "\n",
    "df_4_melted = melt_standard_dfs(df_4_cleaned, codes_mapping)\n",
    "\n",
    "df_5_melted = melt_standard_dfs(df_5_cleaned, codes_mapping)\n",
    "\n",
    "df_6_melted = melt_standard_dfs(df_6_cleaned, codes_mapping)\n",
    "\n",
    "df_7_melted = melt_standard_dfs(df_7_cleaned, codes_mapping)\n",
    "\n",
    "df_8_melted = melt_standard_dfs(df_8_cleaned, codes_mapping)\n",
    "\n",
    "df_9_melted = melt_standard_dfs(df_9_cleaned, codes_mapping)"
   ]
  },
  {
   "cell_type": "code",
   "execution_count": null,
   "id": "fe6a43ca",
   "metadata": {},
   "outputs": [],
   "source": []
  },
  {
   "cell_type": "code",
   "execution_count": null,
   "id": "7ba48100",
   "metadata": {},
   "outputs": [],
   "source": []
  },
  {
   "cell_type": "code",
   "execution_count": null,
   "id": "92f189f7",
   "metadata": {},
   "outputs": [],
   "source": [
    "## concat all dataframes\n",
    "\n",
    "final_df = pd.concat([df_0_melted,df_1_melted, df_2_melted, df_3_melted, df_4_melted, df_5_melted, \n",
    "                      df_6_melted, df_7_melted, df_8_melted, df_9_melted])\n",
    "\n",
    "final_df.head(2)"
   ]
  },
  {
   "cell_type": "code",
   "execution_count": null,
   "id": "e9346f4a",
   "metadata": {},
   "outputs": [],
   "source": [
    "## As data is shared with overlapping dates, drop duplicates\n",
    "\n",
    "final_df.drop_duplicates(keep = 'last', inplace = True)"
   ]
  },
  {
   "cell_type": "code",
   "execution_count": null,
   "id": "19d50753",
   "metadata": {},
   "outputs": [],
   "source": [
    "final_df.shape"
   ]
  },
  {
   "cell_type": "code",
   "execution_count": null,
   "id": "93b0eaab",
   "metadata": {},
   "outputs": [],
   "source": [
    "## convert date_time column to datetime and drop any null values\n",
    "\n",
    "final_df['date_time'] = [datetime.strptime(x, '%d %b, %Y') for x in final_df['date_time']]\n",
    "    \n",
    "final_df.dropna(axis = 0, subset = [\"invoice_value\"], inplace = True)"
   ]
  },
  {
   "cell_type": "code",
   "execution_count": null,
   "id": "345a957f",
   "metadata": {},
   "outputs": [],
   "source": []
  },
  {
   "cell_type": "code",
   "execution_count": null,
   "id": "48f4837f",
   "metadata": {},
   "outputs": [],
   "source": [
    "import os\n",
    "\n",
    "os.getcwd()"
   ]
  },
  {
   "cell_type": "code",
   "execution_count": null,
   "id": "b9b0626d",
   "metadata": {},
   "outputs": [],
   "source": [
    "final_df.to_csv('/home/jupyter-fiona.kamau/SRDS/rw_srds_bralirwa/data/interim/cleaned_analysis_data.csv', index = False)"
   ]
  },
  {
   "cell_type": "code",
   "execution_count": null,
   "id": "a3262803",
   "metadata": {},
   "outputs": [],
   "source": [
    "## dvc to track the files"
   ]
  },
  {
   "cell_type": "code",
   "execution_count": null,
   "id": "49857747",
   "metadata": {},
   "outputs": [],
   "source": []
  }
 ],
 "metadata": {
  "kernelspec": {
   "display_name": "Python 3 (ipykernel)",
   "language": "python",
   "name": "python3"
  },
  "language_info": {
   "codemirror_mode": {
    "name": "ipython",
    "version": 3
   },
   "file_extension": ".py",
   "mimetype": "text/x-python",
   "name": "python",
   "nbconvert_exporter": "python",
   "pygments_lexer": "ipython3",
   "version": "3.9.15"
  }
 },
 "nbformat": 4,
 "nbformat_minor": 5
}
